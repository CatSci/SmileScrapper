{
 "cells": [
  {
   "cell_type": "code",
   "execution_count": 4,
   "metadata": {},
   "outputs": [],
   "source": [
    "import re\n",
    "from selenium import webdriver\n",
    "from selenium.webdriver import ChromeOptions\n",
    "from selenium.webdriver.chrome.service import Service\n",
    "from webdriver_manager.chrome import ChromeDriverManager\n",
    "from selenium.webdriver.common.by import By\n",
    "\n",
    "from smilescraper.logger import logging\n",
    "from smilescraper.exception import CustomException\n",
    "import sys\n",
    "import pandas as pd\n",
    "import streamlit as st"
   ]
  },
  {
   "cell_type": "code",
   "execution_count": 5,
   "metadata": {},
   "outputs": [],
   "source": [
    "def get_driver():\n",
    "    \"\"\"Start Selenium Chrome Driver\n",
    "\n",
    "    Returns:\n",
    "        driver: Chrome Driver\n",
    "    \"\"\"\n",
    "    try:\n",
    "        # logging.info('Logging Started')\n",
    "        # logging.info('Chrome Driver Starting')\n",
    "        # option = webdriver.ChromeOptions()\n",
    "        # option.add_argument('--headless')\n",
    "        # option.add_argument('--no-sandbox')\n",
    "        service = Service(ChromeDriverManager().install())\n",
    "        # driver = webdriver.Chrome(options = option, service= service)\n",
    "        driver = webdriver.Chrome(service= service)\n",
    "        return driver\n",
    "    except Exception as e:\n",
    "        # logging.error('Error Occured in loading Driver')\n",
    "        raise CustomException(error_msg= e, error_detail= sys)"
   ]
  },
  {
   "cell_type": "code",
   "execution_count": 9,
   "metadata": {},
   "outputs": [],
   "source": [
    "def find_cas_number_link(start_link, driver):\n",
    "    \"\"\"_summary_\n",
    "\n",
    "    Args:\n",
    "        start_link (_type_): _description_\n",
    "        driver (_type_): _description_\n",
    "\n",
    "    Returns:\n",
    "        _type_: _description_\n",
    "    \"\"\"\n",
    "\n",
    "    tmp = driver.find_elements(By.CSS_SELECTOR, 'span.breakword')\n",
    "    driver.implicitly_wait(2)\n",
    "    print(tmp)\n",
    "    cid = tmp[1].text\n",
    "    n_link = start_link.split('#')[0]\n",
    "    link = n_link + 'compound/' + cid\n",
    "    n_link = start_link.split('#')[0]\n",
    "    link = n_link + 'compound/' + cid\n",
    "    return link"
   ]
  },
  {
   "cell_type": "code",
   "execution_count": 31,
   "metadata": {},
   "outputs": [],
   "source": [
    "def get_smile(data, driver, cas_no):\n",
    "    \"\"\"To get the smile formula.\n",
    "    Args:\n",
    "        data {dict}: dictionary to store information extracted from website.\n",
    "        driver {selenium web driver}: to load the website and extract data.\n",
    "    Returns:\n",
    "        data {dict}: returns a dictionary of information stored.\n",
    "    \"\"\"\n",
    "    try:\n",
    "        smile = driver.find_element(By.ID, 'Canonical-SMILES')\n",
    "        smile_code = smile.find_element(By.CSS_SELECTOR, 'p').text\n",
    "        data[cas_no] = smile_code\n",
    "    except Exception as e:\n",
    "        # st.write('[INFO] Smile not found')\n",
    "        data[cas_no] = 'None'\n",
    "        raise CustomException(error_msg= e, error_detail= sys)\n",
    "\n",
    "    return data"
   ]
  },
  {
   "cell_type": "code",
   "execution_count": 34,
   "metadata": {},
   "outputs": [
    {
     "name": "stderr",
     "output_type": "stream",
     "text": [
      "2023-03-20 09:51:09.547 INFO    WDM: ====== WebDriver manager ======\n"
     ]
    },
    {
     "name": "stdout",
     "output_type": "stream",
     "text": [
      "start_link--- https://pubchem.ncbi.nlm.nih.gov/#query=57-27-2\n"
     ]
    },
    {
     "name": "stderr",
     "output_type": "stream",
     "text": [
      "2023-03-20 09:51:09.906 INFO    WDM: Get LATEST chromedriver version for google-chrome 111.0.5563\n",
      "2023-03-20 09:51:10.339 INFO    WDM: Driver [C:\\Users\\atul.yadav\\.wdm\\drivers\\chromedriver\\win32\\111.0.5563\\chromedriver.exe] found in cache\n"
     ]
    },
    {
     "name": "stdout",
     "output_type": "stream",
     "text": [
      "[<selenium.webdriver.remote.webelement.WebElement (session=\"c9740f161c97078704bfac27a28cc3d7\", element=\"8625a81e-a280-49fe-9263-cb0f8d15e8a5\")>, <selenium.webdriver.remote.webelement.WebElement (session=\"c9740f161c97078704bfac27a28cc3d7\", element=\"1acbe809-3970-4439-9b53-014868bf015b\")>, <selenium.webdriver.remote.webelement.WebElement (session=\"c9740f161c97078704bfac27a28cc3d7\", element=\"e311c284-0144-4a86-8543-74b201afc000\")>, <selenium.webdriver.remote.webelement.WebElement (session=\"c9740f161c97078704bfac27a28cc3d7\", element=\"2017e030-77aa-4852-9ef4-ee7d9d936d0d\")>, <selenium.webdriver.remote.webelement.WebElement (session=\"c9740f161c97078704bfac27a28cc3d7\", element=\"d404db7d-859b-48ce-aee5-ecf6da06bae1\")>, <selenium.webdriver.remote.webelement.WebElement (session=\"c9740f161c97078704bfac27a28cc3d7\", element=\"e039dfaa-eb39-48e0-b99e-e06ca00c7435\")>, <selenium.webdriver.remote.webelement.WebElement (session=\"c9740f161c97078704bfac27a28cc3d7\", element=\"db3395ed-f613-425c-989e-252adc27f796\")>, <selenium.webdriver.remote.webelement.WebElement (session=\"c9740f161c97078704bfac27a28cc3d7\", element=\"b64c3891-1b29-4fe7-9ee0-1c61199579ba\")>, <selenium.webdriver.remote.webelement.WebElement (session=\"c9740f161c97078704bfac27a28cc3d7\", element=\"09d60bd4-b00f-4cba-9598-c775c0071371\")>]\n",
      "Link---- https://pubchem.ncbi.nlm.nih.gov/compound/5288826\n"
     ]
    },
    {
     "name": "stderr",
     "output_type": "stream",
     "text": [
      "2023-03-20 09:51:16.434 INFO    WDM: ====== WebDriver manager ======\n"
     ]
    },
    {
     "name": "stdout",
     "output_type": "stream",
     "text": [
      "Data------{'57-27-2': 'CN1CCC23C4C1CC5=C2C(=C(C=C5)O)OC3C(C=C4)O'}\n",
      "start_link--- https://pubchem.ncbi.nlm.nih.gov/#query=102-54-5\n"
     ]
    },
    {
     "name": "stderr",
     "output_type": "stream",
     "text": [
      "2023-03-20 09:51:16.756 INFO    WDM: Get LATEST chromedriver version for google-chrome 111.0.5563\n",
      "2023-03-20 09:51:17.202 INFO    WDM: Driver [C:\\Users\\atul.yadav\\.wdm\\drivers\\chromedriver\\win32\\111.0.5563\\chromedriver.exe] found in cache\n"
     ]
    },
    {
     "name": "stdout",
     "output_type": "stream",
     "text": [
      "[<selenium.webdriver.remote.webelement.WebElement (session=\"a2518f7009cb1c700de25898738730b8\", element=\"5d4cf201-786a-4094-ab95-8af0b476c89e\")>, <selenium.webdriver.remote.webelement.WebElement (session=\"a2518f7009cb1c700de25898738730b8\", element=\"bf88f2a0-f8bd-48cb-8f3c-a498c0252154\")>, <selenium.webdriver.remote.webelement.WebElement (session=\"a2518f7009cb1c700de25898738730b8\", element=\"7f169fcd-3d8f-4baa-8b0c-2f0853253761\")>, <selenium.webdriver.remote.webelement.WebElement (session=\"a2518f7009cb1c700de25898738730b8\", element=\"e885aca5-f99c-49db-b574-165f8f7cbed6\")>, <selenium.webdriver.remote.webelement.WebElement (session=\"a2518f7009cb1c700de25898738730b8\", element=\"a795ac61-5976-47eb-a427-76f21e2de51c\")>, <selenium.webdriver.remote.webelement.WebElement (session=\"a2518f7009cb1c700de25898738730b8\", element=\"d8b77b83-dd94-4563-9b6d-417de87506e7\")>, <selenium.webdriver.remote.webelement.WebElement (session=\"a2518f7009cb1c700de25898738730b8\", element=\"26d1c2f6-ca8b-4f23-9e50-0a337dad4e44\")>, <selenium.webdriver.remote.webelement.WebElement (session=\"a2518f7009cb1c700de25898738730b8\", element=\"18d11bb7-fc21-4b75-a34f-6496798160ec\")>, <selenium.webdriver.remote.webelement.WebElement (session=\"a2518f7009cb1c700de25898738730b8\", element=\"5a949bb7-b9b3-44c5-aa59-5111920a6f6c\")>]\n",
      "Link---- https://pubchem.ncbi.nlm.nih.gov/compound/7611\n"
     ]
    },
    {
     "name": "stderr",
     "output_type": "stream",
     "text": [
      "2023-03-20 09:51:23.298 INFO    WDM: ====== WebDriver manager ======\n"
     ]
    },
    {
     "name": "stdout",
     "output_type": "stream",
     "text": [
      "Data------{'57-27-2': 'CN1CCC23C4C1CC5=C2C(=C(C=C5)O)OC3C(C=C4)O', '102-54-5': '[CH-]1C=CC=C1.[CH-]1C=CC=C1.[Fe+2]'}\n",
      "start_link--- https://pubchem.ncbi.nlm.nih.gov/#query= 108-88-3\n"
     ]
    },
    {
     "name": "stderr",
     "output_type": "stream",
     "text": [
      "2023-03-20 09:51:23.629 INFO    WDM: Get LATEST chromedriver version for google-chrome 111.0.5563\n",
      "2023-03-20 09:51:24.055 INFO    WDM: Driver [C:\\Users\\atul.yadav\\.wdm\\drivers\\chromedriver\\win32\\111.0.5563\\chromedriver.exe] found in cache\n"
     ]
    },
    {
     "name": "stdout",
     "output_type": "stream",
     "text": [
      "[<selenium.webdriver.remote.webelement.WebElement (session=\"c0774f7f25b9b3c14f7dd723751ddaa6\", element=\"5ae6396a-3221-4532-8d77-0672faad4b1e\")>, <selenium.webdriver.remote.webelement.WebElement (session=\"c0774f7f25b9b3c14f7dd723751ddaa6\", element=\"9b435b3d-53c0-493b-a61f-554a3c10bb28\")>, <selenium.webdriver.remote.webelement.WebElement (session=\"c0774f7f25b9b3c14f7dd723751ddaa6\", element=\"7e5158be-9c5d-477c-a799-0fe2b05e1f46\")>, <selenium.webdriver.remote.webelement.WebElement (session=\"c0774f7f25b9b3c14f7dd723751ddaa6\", element=\"2d13979a-dbd3-4a4a-a020-f08f17e89638\")>, <selenium.webdriver.remote.webelement.WebElement (session=\"c0774f7f25b9b3c14f7dd723751ddaa6\", element=\"5395f0c9-2aa7-4e47-8554-25ab1fd038cc\")>, <selenium.webdriver.remote.webelement.WebElement (session=\"c0774f7f25b9b3c14f7dd723751ddaa6\", element=\"fcd94306-703f-4c18-b360-bbbf7951db46\")>, <selenium.webdriver.remote.webelement.WebElement (session=\"c0774f7f25b9b3c14f7dd723751ddaa6\", element=\"ec26544d-755a-4b80-84fb-f774fe5ec339\")>, <selenium.webdriver.remote.webelement.WebElement (session=\"c0774f7f25b9b3c14f7dd723751ddaa6\", element=\"d69f2b0a-0183-4f38-a15e-b8e2fe4c0c56\")>, <selenium.webdriver.remote.webelement.WebElement (session=\"c0774f7f25b9b3c14f7dd723751ddaa6\", element=\"734ce3a0-b410-4c46-9219-50c294b06b59\")>]\n",
      "Link---- https://pubchem.ncbi.nlm.nih.gov/compound/1140\n",
      "Data------{'57-27-2': 'CN1CCC23C4C1CC5=C2C(=C(C=C5)O)OC3C(C=C4)O', '102-54-5': '[CH-]1C=CC=C1.[CH-]1C=CC=C1.[Fe+2]', ' 108-88-3': 'CC1=CC=CC=C1'}\n"
     ]
    }
   ],
   "source": [
    "# for i in cas_no_list:\n",
    "cas_no = '57-27-2,102-54-5, 108-88-3'\n",
    "cas_no_list = cas_no.split(',')\n",
    "data = {}\n",
    "for i in cas_no_list:\n",
    "    \n",
    "    start_link = \"https://pubchem.ncbi.nlm.nih.gov/#query=\" + str(i)\n",
    "\n",
    "    driver = get_driver()\n",
    "    driver.get(start_link)\n",
    "    driver.implicitly_wait(2)\n",
    "\n",
    "    link = find_cas_number_link(start_link, driver)\n",
    "\n",
    "    driver.get(link)\n",
    "    data = get_smile(data, driver, cas_no= i)"
   ]
  },
  {
   "cell_type": "code",
   "execution_count": 35,
   "metadata": {},
   "outputs": [
    {
     "data": {
      "text/plain": [
       "{'57-27-2': 'CN1CCC23C4C1CC5=C2C(=C(C=C5)O)OC3C(C=C4)O',\n",
       " '102-54-5': '[CH-]1C=CC=C1.[CH-]1C=CC=C1.[Fe+2]',\n",
       " ' 108-88-3': 'CC1=CC=CC=C1'}"
      ]
     },
     "execution_count": 35,
     "metadata": {},
     "output_type": "execute_result"
    }
   ],
   "source": [
    "data"
   ]
  },
  {
   "cell_type": "code",
   "execution_count": null,
   "metadata": {},
   "outputs": [],
   "source": []
  }
 ],
 "metadata": {
  "kernelspec": {
   "display_name": "Python 3",
   "language": "python",
   "name": "python3"
  },
  "language_info": {
   "codemirror_mode": {
    "name": "ipython",
    "version": 3
   },
   "file_extension": ".py",
   "mimetype": "text/x-python",
   "name": "python",
   "nbconvert_exporter": "python",
   "pygments_lexer": "ipython3",
   "version": "3.8.0"
  },
  "orig_nbformat": 4
 },
 "nbformat": 4,
 "nbformat_minor": 2
}
